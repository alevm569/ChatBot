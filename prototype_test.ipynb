{
  "cells": [
    {
      "cell_type": "code",
      "execution_count": 340,
      "metadata": {
        "colab": {
          "base_uri": "https://localhost:8080/"
        },
        "collapsed": true,
        "id": "nA8dfMIHKVXr",
        "outputId": "45271409-5908-4dd0-8473-3b28cb569ff7"
      },
      "outputs": [],
      "source": [
        "# !pip install spacy\n",
        "# !python -m spacy download en_core_web_md\n",
        "# !python -m spacy download es_core_news_md\n",
        "# !pip install langdetect\n",
        "# !pip install dateparser"
      ]
    },
    {
      "cell_type": "code",
      "execution_count": 341,
      "metadata": {
        "id": "M98xWBQEIuYq"
      },
      "outputs": [],
      "source": [
        "import importlib\n",
        "import sys\n",
        "sys.path.append(\"/content\")\n",
        "\n",
        "# import dragontravel_chatbot_vclaude\n",
        "# importlib.reload(dragontravel_chatbot_vclaude)\n",
        "\n",
        "# from dragontravel_chatbot_vclaude import DragonTravelBot, bookings_db\n",
        "\n",
        "import dragontravel_chatbot_v3\n",
        "importlib.reload(dragontravel_chatbot_v3)\n",
        "\n",
        "from dragontravel_chatbot_v3 import DragonTravelBot, bookings_db"
      ]
    },
    {
      "cell_type": "code",
      "execution_count": 342,
      "metadata": {
        "colab": {
          "base_uri": "https://localhost:8080/"
        },
        "id": "CcxkHmOoIuYu",
        "outputId": "ae91f90f-0b1f-4e21-93ff-955048f0226b"
      },
      "outputs": [
        {
          "name": "stdout",
          "output_type": "stream",
          "text": [
            "Loading NLP models...\n",
            "Bot initialized and ready!\n"
          ]
        }
      ],
      "source": [
        "bot = DragonTravelBot()"
      ]
    },
    {
      "cell_type": "code",
      "execution_count": 343,
      "metadata": {},
      "outputs": [
        {
          "name": "stdout",
          "output_type": "stream",
          "text": [
            "¡Bienvenido a DragonTravel! ¿Desde dónde te gustaría volar?\n",
            "Entiendo que buscas un vuelo con Salida: Buenos Aires, Llegada: Roma, Fecha de salida: 05 de agosto, 2025, Tipo de vuelo: round_trip.\n",
            "Regresando el 20 de agosto, 2025. ¿Cuántos pasajeros viajarán?\n"
          ]
        }
      ],
      "source": [
        "print(bot.process_message(\"Precio para cuatro boletos de ida y vuelta de Buenos Aires a Roma del 5 al 20 de agosto\"))"
      ]
    },
    {
      "cell_type": "code",
      "execution_count": 344,
      "metadata": {},
      "outputs": [
        {
          "name": "stdout",
          "output_type": "stream",
          "text": [
            "4 pasajero(s). ¿Qué clase de asiento prefieres? (Económica, Ejecutiva o Primera Clase)\n"
          ]
        }
      ],
      "source": [
        "print(bot.process_message(\"4\"))"
      ]
    },
    {
      "cell_type": "code",
      "execution_count": 345,
      "metadata": {},
      "outputs": [
        {
          "name": "stdout",
          "output_type": "stream",
          "text": [
            "Clase económica seleccionada. Por favor proporciona tu dirección de correo electrónico para la cotización.\n"
          ]
        }
      ],
      "source": [
        "print(bot.process_message(\"clase económica\"))"
      ]
    },
    {
      "cell_type": "code",
      "execution_count": 346,
      "metadata": {},
      "outputs": [
        {
          "name": "stdout",
          "output_type": "stream",
          "text": [
            "Por favor confirma los detalles de tu reserva:\n",
            "\n",
            "Desde: Buenos Aires\n",
            "A: Roma\n",
            "Salida: 05 de agosto, 2025\n",
            "Regreso: 20 de agosto, 2025\n",
            "Tipo de vuelo: Ida y vuelta\n",
            "Pasajeros: 4\n",
            "Clase: Economy\n",
            "Aerolínea: DragonAir\n",
            "Email: sger@gmail.com\n",
            "\n",
            "¿Es correcta esta información?\n"
          ]
        }
      ],
      "source": [
        "print(bot.process_message(\"sger@gmail.com\"))"
      ]
    },
    {
      "cell_type": "code",
      "execution_count": 347,
      "metadata": {},
      "outputs": [
        {
          "name": "stdout",
          "output_type": "stream",
          "text": [
            "[EMAIL SIMULATION] Quotation of $3260.00 sent to sger@gmail.com\n",
            "¡Excelente! Tu reserva (ID: 1001) ha sido confirmada. Se ha enviado una cotización a tu correo electrónico.\n",
            "¿Quieres dejar algún comentario?\n"
          ]
        }
      ],
      "source": [
        "print(bot.process_message(\"si\"))"
      ]
    },
    {
      "cell_type": "code",
      "execution_count": 348,
      "metadata": {},
      "outputs": [
        {
          "name": "stdout",
          "output_type": "stream",
          "text": [
            "¡Gracias por elegir DragonTravel!\n"
          ]
        }
      ],
      "source": [
        "print(bot.process_message(\"no\"))"
      ]
    },
    {
      "cell_type": "code",
      "execution_count": 349,
      "metadata": {},
      "outputs": [
        {
          "name": "stdout",
          "output_type": "stream",
          "text": [
            "¡Bienvenido a DragonTravel! ¿Desde dónde te gustaría volar?\n",
            "Entiendo que buscas un vuelo con Salida: Berlin, Llegada: Paris.\n",
            "No pude entender esa fecha. Por favor especifica una fecha de salida (por ejemplo, 15 de octubre de 2025).\n"
          ]
        }
      ],
      "source": [
        "print(bot.process_message(\"Quiero reservar un vuelo desde Berlín hasta París para dos personas\"))"
      ]
    },
    {
      "cell_type": "code",
      "execution_count": null,
      "metadata": {},
      "outputs": [
        {
          "data": {
            "text/plain": [
              "'Saliendo el 04 de abril, 2025. ¿Es un vuelo de ida solamente o de ida y vuelta?'"
            ]
          },
          "execution_count": 350,
          "metadata": {},
          "output_type": "execute_result"
        }
      ],
      "source": [
        "print(bot.process_message(\"4 de abril\"))"
      ]
    },
    {
      "cell_type": "code",
      "execution_count": 351,
      "metadata": {},
      "outputs": [
        {
          "data": {
            "text/plain": [
              "'¿Cuándo te gustaría regresar?'"
            ]
          },
          "execution_count": 351,
          "metadata": {},
          "output_type": "execute_result"
        }
      ],
      "source": [
        "bot.process_message(\"es de ida y vuelta\")"
      ]
    },
    {
      "cell_type": "code",
      "execution_count": 352,
      "metadata": {},
      "outputs": [
        {
          "data": {
            "text/plain": [
              "'Regresando el 01 de mayo, 2025. ¿Cuántos pasajeros viajarán?'"
            ]
          },
          "execution_count": 352,
          "metadata": {},
          "output_type": "execute_result"
        }
      ],
      "source": [
        "bot.process_message(\"1 de mayo\")"
      ]
    },
    {
      "cell_type": "code",
      "execution_count": 353,
      "metadata": {},
      "outputs": [
        {
          "data": {
            "text/plain": [
              "'1 pasajero(s). ¿Qué clase de asiento prefieres? (Económica, Ejecutiva o Primera Clase)'"
            ]
          },
          "execution_count": 353,
          "metadata": {},
          "output_type": "execute_result"
        }
      ],
      "source": [
        "bot.process_message(\"una persona\")"
      ]
    },
    {
      "cell_type": "code",
      "execution_count": null,
      "metadata": {},
      "outputs": [
        {
          "data": {
            "text/plain": [
              "'Primera clase seleccionada. Por favor proporciona tu dirección de correo electrónico para la cotización.'"
            ]
          },
          "execution_count": 354,
          "metadata": {},
          "output_type": "execute_result"
        }
      ],
      "source": [
        "print(bot.process_message(\"primera clase\"))"
      ]
    },
    {
      "cell_type": "code",
      "execution_count": null,
      "metadata": {},
      "outputs": [
        {
          "data": {
            "text/plain": [
              "'Por favor confirma los detalles de tu reserva:\\n\\nDesde: Berlin\\nA: Paris\\nSalida: 04 de abril, 2025\\nRegreso: 01 de mayo, 2025\\nTipo de vuelo: Ida y vuelta\\nPasajeros: 1\\nClase: First Class\\nAerolínea: GlobalFlyers\\nEmail: test@test.com\\n\\n¿Es correcta esta información?'"
            ]
          },
          "execution_count": 355,
          "metadata": {},
          "output_type": "execute_result"
        }
      ],
      "source": [
        "print(bot.process_message(\"test@test.com\"))"
      ]
    },
    {
      "cell_type": "code",
      "execution_count": 356,
      "metadata": {},
      "outputs": [
        {
          "name": "stdout",
          "output_type": "stream",
          "text": [
            "[EMAIL SIMULATION] Quotation of $5120.00 sent to test@test.com\n",
            "¡Excelente! Tu reserva (ID: 1002) ha sido confirmada. Se ha enviado una cotización a tu correo electrónico.\n",
            "¿Quieres dejar algún comentario?\n"
          ]
        }
      ],
      "source": [
        "print(bot.process_message(\"si\"))"
      ]
    },
    {
      "cell_type": "code",
      "execution_count": 357,
      "metadata": {},
      "outputs": [
        {
          "name": "stdout",
          "output_type": "stream",
          "text": [
            "Déjanos saber que piensas.\n"
          ]
        }
      ],
      "source": [
        "print(bot.process_message(\"si\"))"
      ]
    },
    {
      "cell_type": "code",
      "execution_count": 359,
      "metadata": {},
      "outputs": [
        {
          "data": {
            "text/html": [
              "\n",
              "                <audio  controls=\"controls\" autoplay=\"autoplay\">\n",
              "                    <source src=\"data:audio/mpeg;base64,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\" type=\"audio/mpeg\" />\n",
              "                    Your browser does not support the audio element.\n",
              "                </audio>\n",
              "              "
            ],
            "text/plain": [
              "<IPython.lib.display.Audio object>"
            ]
          },
          "metadata": {},
          "output_type": "display_data"
        },
        {
          "name": "stdout",
          "output_type": "stream",
          "text": [
            "Gracias, recibimos tu comentario\n"
          ]
        }
      ],
      "source": [
        "from IPython.display import Audio, display\n",
        "from gtts import gTTS\n",
        "\n",
        "def text_to_speech(flow, text, lang=\"en\"):\n",
        "    \"\"\"Convert text to speech and play it\"\"\"\n",
        "    # Create a gTTS object with the text and language\n",
        "    if flow == \"query\":\n",
        "        if lang == \"es\":\n",
        "            tts = gTTS(text=text, lang=lang, tld='com.mx')\n",
        "        else:\n",
        "            tts = gTTS(text=text, lang=lang, tld='us')\n",
        "    else:\n",
        "        if lang == \"es\":\n",
        "            tts = gTTS(text=text, lang=lang, tld='us')\n",
        "        else:\n",
        "            tts = gTTS(text=text, lang=lang, tld='co.uk')\n",
        "    \n",
        "    # Save to a temporary file\n",
        "    tts.save(f\"{flow}.mp3\")\n",
        "    \n",
        "    # Display an audio widget with the response\n",
        "    return Audio(f\"{flow}.mp3\", autoplay=True)\n",
        "\n",
        "display(text_to_speech(\"feedback\", \"Feo chatbot, el que lo hizo estudió informática en una escuela del milenio\", bot.detected_language))\n",
        "print(bot.process_message(\"Feo chatbot, el que lo hizo estudió informática en una escuala del milenio\"))"
      ]
    },
    {
      "cell_type": "code",
      "execution_count": 361,
      "metadata": {},
      "outputs": [
        {
          "data": {
            "text/plain": [
              "[{'num_passengers': 4,\n",
              "  'flight_type': 'round_trip',\n",
              "  'departure_airport': 'EZE',\n",
              "  'arrival_airport': 'FCO',\n",
              "  'departure_datetime': datetime.datetime(2025, 8, 5, 12, 0),\n",
              "  'arrival_datetime': datetime.datetime(2025, 8, 20, 12, 0),\n",
              "  'airline': 'DragonAir',\n",
              "  'seat_class': 'Economy',\n",
              "  'email': 'sger@gmail.com',\n",
              "  'booking_id': 1001,\n",
              "  'created_at': datetime.datetime(2025, 3, 14, 19, 18, 57, 35718)},\n",
              " {'num_passengers': 1,\n",
              "  'flight_type': 'round_trip',\n",
              "  'departure_airport': 'BER',\n",
              "  'arrival_airport': 'CDG',\n",
              "  'departure_datetime': datetime.datetime(2025, 4, 4, 12, 0),\n",
              "  'arrival_datetime': datetime.datetime(2025, 5, 1, 12, 0),\n",
              "  'airline': 'GlobalFlyers',\n",
              "  'seat_class': 'First Class',\n",
              "  'email': 'test@test.com',\n",
              "  'booking_id': 1002,\n",
              "  'created_at': datetime.datetime(2025, 3, 14, 19, 18, 57, 378894)},\n",
              " {'booking_id': 1002,\n",
              "  'audio_transcription': ' Feo Chatbot, el que lo hizo estudió informática en una escuela del milenio.',\n",
              "  'language': 'es',\n",
              "  'category': 'Queja',\n",
              "  'timestamp': datetime.datetime(2025, 3, 14, 19, 19, 6, 510372)}]"
            ]
          },
          "execution_count": 361,
          "metadata": {},
          "output_type": "execute_result"
        }
      ],
      "source": [
        "bookings_db"
      ]
    }
  ],
  "metadata": {
    "colab": {
      "provenance": []
    },
    "kernelspec": {
      "display_name": "nlp_env",
      "language": "python",
      "name": "python3"
    },
    "language_info": {
      "codemirror_mode": {
        "name": "ipython",
        "version": 3
      },
      "file_extension": ".py",
      "mimetype": "text/x-python",
      "name": "python",
      "nbconvert_exporter": "python",
      "pygments_lexer": "ipython3",
      "version": "3.12.8"
    }
  },
  "nbformat": 4,
  "nbformat_minor": 0
}
