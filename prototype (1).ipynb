{
  "cells": [
    {
      "cell_type": "code",
      "execution_count": 7,
      "metadata": {
        "colab": {
          "base_uri": "https://localhost:8080/"
        },
        "collapsed": true,
        "id": "nA8dfMIHKVXr",
        "outputId": "45271409-5908-4dd0-8473-3b28cb569ff7"
      },
      "outputs": [],
      "source": [
        "# !pip install spacy\n",
        "# !python -m spacy download en_core_web_md\n",
        "# !python -m spacy download es_core_news_md\n",
        "# !pip install langdetect\n",
        "# !pip install dateparser"
      ]
    },
    {
      "cell_type": "code",
      "execution_count": 8,
      "metadata": {
        "id": "M98xWBQEIuYq"
      },
      "outputs": [],
      "source": [
        "import importlib\n",
        "import sys\n",
        "sys.path.append(\"/content\")\n",
        "\n",
        "import dragontravel_chatbot_v2\n",
        "importlib.reload(dragontravel_chatbot_v2)\n",
        "\n",
        "from dragontravel_chatbot_v2 import DragonTravelBot, bookings_db"
      ]
    },
    {
      "cell_type": "code",
      "execution_count": 9,
      "metadata": {
        "colab": {
          "base_uri": "https://localhost:8080/"
        },
        "id": "CcxkHmOoIuYu",
        "outputId": "ae91f90f-0b1f-4e21-93ff-955048f0226b"
      },
      "outputs": [
        {
          "name": "stdout",
          "output_type": "stream",
          "text": [
            "Loading NLP models...\n"
          ]
        },
        {
          "name": "stderr",
          "output_type": "stream",
          "text": [
            "Device set to use cpu\n"
          ]
        },
        {
          "name": "stdout",
          "output_type": "stream",
          "text": [
            "Bot initialized and ready!\n"
          ]
        }
      ],
      "source": [
        "bot = DragonTravelBot()\n"
      ]
    },
    {
      "cell_type": "code",
      "execution_count": 5,
      "metadata": {
        "colab": {
          "base_uri": "https://localhost:8080/"
        },
        "id": "CJXsZdpzO7ua",
        "outputId": "4ff815cf-2f25-43c7-b0f6-25d0af15b2d7"
      },
      "outputs": [
        {
          "name": "stdout",
          "output_type": "stream",
          "text": [
            "Detected: es (Confidence: 1.00) - Full: [es:0.9999965015499458]\n",
            "¡Bienvenido a DragonTravel! ¿Desde dónde te gustaría volar?\n"
          ]
        }
      ],
      "source": [
        "print(bot.process_message(\"Quiero reservar un vuelo, can you help me?\"))"
      ]
    },
    {
      "cell_type": "code",
      "execution_count": 10,
      "metadata": {},
      "outputs": [
        {
          "name": "stdout",
          "output_type": "stream",
          "text": [
            "Detected: es (Confidence: 1.00) - Full: [es:0.9999965015499458]\n",
            "Bot: ¡Bienvenido a DragonTravel! ¿Desde dónde te gustaría volar?\n",
            "Bot: No pude entender ese aeropuerto. ¿Podrías especificar tu ciudad de salida o código de aeropuerto?\n",
            "Bot: ¡Excelente! Vuelo desde BER. ¿Cuál es tu destino?\n",
            "Bot: Vuelo desde BER a JFK. ¿Cuándo te gustaría salir?\n",
            "Bot: Saliendo el 02 de April, 2025. ¿Es un vuelo de ida solamente o de ida y vuelta?\n",
            "Bot: ¿Cuántos pasajeros viajarán?\n",
            "Bot: 3 pasajero(s). ¿Qué clase de asiento prefieres? (Económica, Ejecutiva o Primera Clase)\n",
            "Bot: No he recibido ningún mensaje. ¿En qué puedo ayudarte?\n",
            "Bot: Clase Economy seleccionada. Por favor proporciona tu dirección de correo electrónico para la cotización.\n",
            "Bot: Por favor confirma los detalles de tu reserva:\n",
            "\n",
            "Desde: BER\n",
            "A: JFK\n",
            "Salida: 02 de April, 2025\n",
            "Regreso: N/A\n",
            "Tipo de vuelo: Solo ida\n",
            "Pasajeros: 3\n",
            "Clase: Economy\n",
            "Aerolínea: GlobalFlyers\n",
            "Email: tre@tre.com\n",
            "\n",
            "¿Es correcta esta información?\n",
            "[EMAIL SIMULATION] Quotation of $1400.00 sent to tre@tre.com\n",
            "Bot: ¡Excelente! Tu reserva (ID: 1001) ha sido confirmada. Se ha enviado una cotización a tu correo electrónico. ¡Gracias por elegir DragonTravel!\n"
          ]
        }
      ],
      "source": [
        "while True:\n",
        "        user_input = input(\"\\nYou: \")\n",
        "        if user_input.lower() == 'exit':\n",
        "            break\n",
        "            \n",
        "        response = bot.process_message(user_input)\n",
        "        print(f\"Bot: {response}\")"
      ]
    },
    {
      "cell_type": "code",
      "execution_count": 60,
      "metadata": {
        "id": "XTSYRw4WIuYt"
      },
      "outputs": [],
      "source": [
        "def test_bot():\n",
        "    print(\"Initializing DragonTravel bot...\")\n",
        "    bot = DragonTravelBot()\n",
        "\n",
        "    print(\"\\n=== DragonTravel Bot Test ===\")\n",
        "    print(\"Bot: Welcome to DragonTravel! How can I help you today?\")\n",
        "\n",
        "    # Test some sample queries\n",
        "    test_queries = [\n",
        "        \"I want to fly from Houston to Berlin in October\",\n",
        "        \"October 15th\",\n",
        "        \"round trip\",\n",
        "        \"October 25th\",\n",
        "        \"2 passengers\",\n",
        "        \"business class\",\n",
        "        \"test@example.com\",\n",
        "        \"yes\"\n",
        "    ]\n",
        "\n",
        "    for query in test_queries:\n",
        "        print(f\"\\nYou: {query}\")\n",
        "        response = bot.process_message(query)\n",
        "        print(f\"Bot: {response}\")\n",
        "\n",
        "    print(\"\\n=== Test Complete ===\")\n",
        "\n",
        "    # Interactive mode\n",
        "    print(\"\\nEntering interactive mode. Type 'exit' to quit.\")\n",
        "    while True:\n",
        "        user_input = input(\"\\nYou: \")\n",
        "        if user_input.lower() == 'exit':\n",
        "            break\n",
        "\n",
        "        response = bot.process_message(user_input)\n",
        "        print(f\"Bot: {response}\")\n",
        "\n",
        "    print(\"Thank you for using DragonTravel!\")"
      ]
    },
    {
      "cell_type": "code",
      "execution_count": 62,
      "metadata": {
        "colab": {
          "base_uri": "https://localhost:8080/"
        },
        "id": "XMkoTgWcWz0w",
        "outputId": "2f98e578-30bc-4cc1-cab7-b2f6b5bae795"
      },
      "outputs": [
        {
          "name": "stdout",
          "output_type": "stream",
          "text": [
            "2025-06-08 12:00:00\n",
            "2025-06-08 00:00:00\n",
            "2024-10-15 12:00:00\n",
            "Language detection error: No features in text.\n",
            "Welcome to DragonTravel! Where would you like to fly from?\n"
          ]
        }
      ],
      "source": [
        "print(bot.parse_date_string(\"8 de junio\"))\n",
        "print(bot.parse_date_string(\"junio 8, 2025\"))\n",
        "print(bot.parse_date_string(\"15 de octubre de 2024\"))\n",
        "print(bot.process_message(\"06/08/2025\"))"
      ]
    },
    {
      "cell_type": "code",
      "execution_count": 38,
      "metadata": {
        "colab": {
          "base_uri": "https://localhost:8080/"
        },
        "id": "iSKqCibOIuYv",
        "outputId": "387a1268-801d-4cb3-e43c-a6df9abe9e0a"
      },
      "outputs": [
        {
          "name": "stdout",
          "output_type": "stream",
          "text": [
            "Detected: es (Confidence: 1.00) - Full: [es:0.9999947503337675]\n",
            "¡Bienvenido a DragonTravel! ¿Desde dónde te gustaría volar?\n"
          ]
        }
      ],
      "source": [
        "print(bot.process_message(\"¿Vuelos de Guayaquil a París en noviembre?\"))"
      ]
    },
    {
      "cell_type": "code",
      "execution_count": 63,
      "metadata": {
        "colab": {
          "base_uri": "https://localhost:8080/"
        },
        "id": "ibuY3LmsIuYv",
        "outputId": "80387d21-ce79-4ddf-a2dd-e31bf482b66d"
      },
      "outputs": [
        {
          "name": "stdout",
          "output_type": "stream",
          "text": [
            "\n",
            "You: quiero un vuelo de berlin a paris solo ida\n",
            "Detected: es (Confidence: 1.00) - Full: [es:0.9999950375639993]\n",
            "Bot: ¡Excelente! Vuelo desde BER. ¿Cuál es tu destino?\n",
            "\n",
            "You: paris\n",
            "Detected: lt (Confidence: 1.00) - Full: [lt:0.9999918914633541]\n",
            "Bot: Flying from BER to CDG. When would you like to depart?\n",
            "\n",
            "You: 8 de junio\n",
            "Detected: es (Confidence: 1.00) - Full: [es:0.9999921961813973]\n",
            "Bot: Saliendo el 08 de June, 2025. ¿Es un vuelo de ida solamente o de ida y vuelta?\n",
            "\n",
            "You: si, solamente ida\n",
            "Detected: it (Confidence: 1.00) - Full: [it:0.9999942210543155]\n",
            "Bot: How many passengers will be traveling?\n",
            "\n",
            "You: dos pasajeros\n",
            "Detected: es (Confidence: 0.57) - Full: [es:0.5714268364184893, lt:0.42857256915066516]\n",
            "Bot: 2 passenger(s). What seat class would you prefer? (Economy, Business, or First Class)\n",
            "\n",
            "You: economica\n",
            "Detected: it (Confidence: 1.00) - Full: [it:0.9999974550903385]\n",
            "Bot: Economy class selected. Please provide your email address for the quotation.\n",
            "\n",
            "You: test@gmail.com\n",
            "Language detection error: No features in text.\n",
            "Bot: Please confirm your booking details:\n",
            "\n",
            "From: BER\n",
            "To: CDG\n",
            "Departure: June 08, 2025\n",
            "Return: N/A\n",
            "Flight type: One-way\n",
            "Passengers: 2\n",
            "Class: Economy\n",
            "Airline: DragonAir\n",
            "Email: test@gmail.com\n",
            "\n",
            "Is this information correct?\n",
            "\n",
            "You: si\n",
            "Detected: fi (Confidence: 1.00) - Full: [fi:0.9999929527666359]\n",
            "[EMAIL SIMULATION] Quotation of $930.00 sent to test@gmail.com\n",
            "Bot: Great! Your booking (ID: 1001) has been confirmed. A quotation has been sent to your email. Thank you for choosing DragonTravel!\n",
            "\n",
            "You: exit\n"
          ]
        }
      ],
      "source": [
        "while True:\n",
        "        user_input = input(\"\\nYou: \")\n",
        "        if user_input.lower() == 'exit':\n",
        "            break\n",
        "\n",
        "        response = bot.process_message(user_input)\n",
        "        print(f\"Bot: {response}\")"
      ]
    },
    {
      "cell_type": "code",
      "execution_count": 11,
      "metadata": {
        "colab": {
          "base_uri": "https://localhost:8080/"
        },
        "id": "6z2maK-KIuYv",
        "outputId": "980917fb-c36a-4bcb-e583-ea5a6a5bf2e7"
      },
      "outputs": [
        {
          "data": {
            "text/plain": [
              "[{'num_passengers': 3,\n",
              "  'flight_type': 'one_way',\n",
              "  'departure_airport': 'BER',\n",
              "  'arrival_airport': 'JFK',\n",
              "  'departure_datetime': datetime.datetime(2025, 4, 2, 12, 0),\n",
              "  'arrival_datetime': None,\n",
              "  'airline': 'GlobalFlyers',\n",
              "  'seat_class': 'Economy',\n",
              "  'email': 'tre@tre.com',\n",
              "  'booking_id': 1001,\n",
              "  'created_at': datetime.datetime(2025, 3, 4, 21, 23, 25, 864870)}]"
            ]
          },
          "execution_count": 11,
          "metadata": {},
          "output_type": "execute_result"
        }
      ],
      "source": [
        "bookings_db"
      ]
    }
  ],
  "metadata": {
    "colab": {
      "provenance": []
    },
    "kernelspec": {
      "display_name": "nlp_env",
      "language": "python",
      "name": "python3"
    },
    "language_info": {
      "codemirror_mode": {
        "name": "ipython",
        "version": 3
      },
      "file_extension": ".py",
      "mimetype": "text/x-python",
      "name": "python",
      "nbconvert_exporter": "python",
      "pygments_lexer": "ipython3",
      "version": "3.10.11"
    }
  },
  "nbformat": 4,
  "nbformat_minor": 0
}
